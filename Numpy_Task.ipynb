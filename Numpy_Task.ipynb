{
 "cells": [
  {
   "cell_type": "code",
   "execution_count": 71,
   "id": "ad19b830",
   "metadata": {},
   "outputs": [],
   "source": [
    "import numpy as np"
   ]
  },
  {
   "cell_type": "code",
   "execution_count": 72,
   "id": "98f9b5b6",
   "metadata": {},
   "outputs": [],
   "source": [
    "#1.\tDown load the dataset winequality-red.csv file( each column is separated by a semicolon (;)) from the UCI Machine Learning Repository\n",
    "#2.\tConvert it to numPy array, name it as wines (leave the first row of the list) and specify the data type of array as float.\n",
    "wines=np.genfromtxt('C:/Users/y20cs99/Downloads/winequality-red.csv',skip_header=1,delimiter=';',dtype='float')"
   ]
  },
  {
   "cell_type": "code",
   "execution_count": 73,
   "id": "1d74d962",
   "metadata": {},
   "outputs": [
    {
     "data": {
      "text/plain": [
       "array([[ 7.4  ,  0.7  ,  0.   , ...,  0.56 ,  9.4  ,  5.   ],\n",
       "       [ 7.8  ,  0.88 ,  0.   , ...,  0.68 ,  9.8  ,  5.   ],\n",
       "       [ 7.8  ,  0.76 ,  0.04 , ...,  0.65 ,  9.8  ,  5.   ],\n",
       "       ...,\n",
       "       [ 6.3  ,  0.51 ,  0.13 , ...,  0.75 , 11.   ,  6.   ],\n",
       "       [ 5.9  ,  0.645,  0.12 , ...,  0.71 , 10.2  ,  5.   ],\n",
       "       [ 6.   ,  0.31 ,  0.47 , ...,  0.66 , 11.   ,  6.   ]])"
      ]
     },
     "execution_count": 73,
     "metadata": {},
     "output_type": "execute_result"
    }
   ],
   "source": [
    "wines"
   ]
  },
  {
   "cell_type": "code",
   "execution_count": 74,
   "id": "f4a74303",
   "metadata": {},
   "outputs": [
    {
     "data": {
      "text/plain": [
       "(1599, 12)"
      ]
     },
     "execution_count": 74,
     "metadata": {},
     "output_type": "execute_result"
    }
   ],
   "source": [
    "#3.\tIdentify the shape of the array.\n",
    "wines.shape"
   ]
  },
  {
   "cell_type": "code",
   "execution_count": 75,
   "id": "bb7d9d88",
   "metadata": {},
   "outputs": [
    {
     "data": {
      "text/plain": [
       "2.3"
      ]
     },
     "execution_count": 75,
     "metadata": {},
     "output_type": "execute_result"
    }
   ],
   "source": [
    "#4.\tDisplay the element at row 3 and column 4.\n",
    "wines[2,3]"
   ]
  },
  {
   "cell_type": "code",
   "execution_count": 76,
   "id": "88e28f14",
   "metadata": {},
   "outputs": [
    {
     "data": {
      "text/plain": [
       "array([1.9, 2.6, 2.3])"
      ]
     },
     "execution_count": 76,
     "metadata": {},
     "output_type": "execute_result"
    }
   ],
   "source": [
    "#5.\t Display the first three items from the fourth column.\n",
    "wines[0:3,3]"
   ]
  },
  {
   "cell_type": "code",
   "execution_count": 77,
   "id": "40cfc6b0",
   "metadata": {},
   "outputs": [
    {
     "data": {
      "text/plain": [
       "array([0.  , 0.  , 0.04, ..., 0.13, 0.12, 0.47])"
      ]
     },
     "execution_count": 77,
     "metadata": {},
     "output_type": "execute_result"
    }
   ],
   "source": [
    "#6.\tDisplay third column from each row.\n",
    "wines[:,2]"
   ]
  },
  {
   "cell_type": "code",
   "execution_count": 78,
   "id": "75279fc9",
   "metadata": {},
   "outputs": [
    {
     "data": {
      "text/plain": [
       "array([11.2  ,  0.28 ,  0.56 ,  1.9  ,  0.075, 17.   , 60.   ,  0.998,\n",
       "        3.16 ,  0.58 ,  9.8  ,  6.   ])"
      ]
     },
     "execution_count": 78,
     "metadata": {},
     "output_type": "execute_result"
    }
   ],
   "source": [
    "#7.\tDisplay fourth row.\n",
    "wines[3]"
   ]
  },
  {
   "cell_type": "code",
   "execution_count": 79,
   "id": "3bcf367d",
   "metadata": {},
   "outputs": [],
   "source": [
    "#8.\tAssign value 10 to 2nd row and 6th column element.\n",
    "wines[1,5]=10"
   ]
  },
  {
   "cell_type": "code",
   "execution_count": 80,
   "id": "02a65753",
   "metadata": {},
   "outputs": [
    {
     "data": {
      "text/plain": [
       "array([[ 7.4  ,  0.7  ,  0.   , ...,  0.56 ,  9.4  ,  5.   ],\n",
       "       [ 7.8  ,  0.88 ,  0.   , ...,  0.68 ,  9.8  ,  5.   ],\n",
       "       [ 7.8  ,  0.76 ,  0.04 , ...,  0.65 ,  9.8  ,  5.   ],\n",
       "       ...,\n",
       "       [ 6.3  ,  0.51 ,  0.13 , ...,  0.75 , 11.   ,  6.   ],\n",
       "       [ 5.9  ,  0.645,  0.12 , ...,  0.71 , 10.2  ,  5.   ],\n",
       "       [ 6.   ,  0.31 ,  0.47 , ...,  0.66 , 11.   ,  6.   ]])"
      ]
     },
     "execution_count": 80,
     "metadata": {},
     "output_type": "execute_result"
    }
   ],
   "source": [
    "wines"
   ]
  },
  {
   "cell_type": "code",
   "execution_count": 81,
   "id": "d55aaa3c",
   "metadata": {},
   "outputs": [
    {
     "data": {
      "text/plain": [
       "array([666., 666., 666., ..., 666., 666., 666.])"
      ]
     },
     "execution_count": 81,
     "metadata": {},
     "output_type": "execute_result"
    }
   ],
   "source": [
    "#9.\tTake the 10th column from wines array and name that slice as slice_new and assign value 666 to all elements of slice_new.\n",
    "slice_new=wines[:,9]\n",
    "slice_new[:]=666\n",
    "slice_new"
   ]
  },
  {
   "cell_type": "code",
   "execution_count": 82,
   "id": "ab26da41",
   "metadata": {},
   "outputs": [
    {
     "data": {
      "text/plain": [
       "array([666., 666., 666., ..., 666., 666., 666.])"
      ]
     },
     "execution_count": 82,
     "metadata": {},
     "output_type": "execute_result"
    }
   ],
   "source": [
    "\n",
    "wines[:,9]"
   ]
  },
  {
   "cell_type": "code",
   "execution_count": 83,
   "id": "10a4beeb",
   "metadata": {},
   "outputs": [
    {
     "data": {
      "text/plain": [
       "array([[7.40e+00, 7.00e-01, 0.00e+00, ..., 6.66e+02, 9.40e+00, 5.00e+00],\n",
       "       [7.80e+00, 8.80e-01, 0.00e+00, ..., 6.66e+02, 9.80e+00, 5.00e+00],\n",
       "       [7.80e+00, 7.60e-01, 4.00e-02, ..., 6.66e+02, 9.80e+00, 5.00e+00],\n",
       "       ...,\n",
       "       [6.30e+00, 5.10e-01, 1.30e-01, ..., 6.66e+02, 1.10e+01, 6.00e+00],\n",
       "       [5.90e+00, 6.45e-01, 1.20e-01, ..., 6.66e+02, 1.02e+01, 5.00e+00],\n",
       "       [6.00e+00, 3.10e-01, 4.70e-01, ..., 6.66e+02, 1.10e+01, 6.00e+00]])"
      ]
     },
     "execution_count": 83,
     "metadata": {},
     "output_type": "execute_result"
    }
   ],
   "source": [
    "#10.\tDisplay wines array.\n",
    "wines"
   ]
  },
  {
   "cell_type": "code",
   "execution_count": 84,
   "id": "4346f20c",
   "metadata": {},
   "outputs": [
    {
     "data": {
      "text/plain": [
       "dtype('float64')"
      ]
     },
     "execution_count": 84,
     "metadata": {},
     "output_type": "execute_result"
    }
   ],
   "source": [
    "#11.\tFind the data type of wines array and Change the data type to int.\n",
    "wines.dtype"
   ]
  },
  {
   "cell_type": "code",
   "execution_count": 89,
   "id": "28c7ad9c",
   "metadata": {},
   "outputs": [],
   "source": [
    "#11.\tFind the data type of wines array and Change the data type to int.\n",
    "wines=wines.astype(int)"
   ]
  },
  {
   "cell_type": "code",
   "execution_count": 90,
   "id": "9946000a",
   "metadata": {},
   "outputs": [
    {
     "data": {
      "text/plain": [
       "array([15, 15, 15, ..., 16, 15, 16])"
      ]
     },
     "execution_count": 90,
     "metadata": {},
     "output_type": "execute_result"
    }
   ],
   "source": [
    "#12.\tAdd 10 points to each quality score.\n",
    "wines[:,11]+10"
   ]
  },
  {
   "cell_type": "code",
   "execution_count": 91,
   "id": "c5356558",
   "metadata": {},
   "outputs": [
    {
     "data": {
      "text/plain": [
       "1210398"
      ]
     },
     "execution_count": 91,
     "metadata": {},
     "output_type": "execute_result"
    }
   ],
   "source": [
    "#13.\tFind the sum of all the elements in an array\n",
    "np.sum(wines)"
   ]
  },
  {
   "cell_type": "code",
   "execution_count": 102,
   "id": "104b7b49",
   "metadata": {},
   "outputs": [
    {
     "data": {
      "text/plain": [
       "array([745, 778, 770, ..., 774, 777, 766])"
      ]
     },
     "execution_count": 102,
     "metadata": {},
     "output_type": "execute_result"
    }
   ],
   "source": [
    "#14.\tFind the sum of all the values in every column\n",
    "np.sum(wines,axis=1)"
   ]
  },
  {
   "cell_type": "code",
   "execution_count": 103,
   "id": "18f83dde",
   "metadata": {},
   "outputs": [
    {
     "data": {
      "text/plain": [
       "array([  12589,      24,       1,    3350,       0,   25367,   74301,\n",
       "            81,    4770, 1064934,   31938,    9012])"
      ]
     },
     "execution_count": 103,
     "metadata": {},
     "output_type": "execute_result"
    }
   ],
   "source": [
    "#15.\tFind the sum of all the values in every row.\n",
    "np.sum(wines,axis=0)"
   ]
  },
  {
   "cell_type": "code",
   "execution_count": 94,
   "id": "d9b7d19f",
   "metadata": {},
   "outputs": [],
   "source": [
    "#16.\tAdd the quality column to itself.\n",
    "wines[:,10]=np.add(wines[:,10],wines[:,10])"
   ]
  },
  {
   "cell_type": "code",
   "execution_count": 95,
   "id": "eeaecc2c",
   "metadata": {},
   "outputs": [
    {
     "data": {
      "text/plain": [
       "array([[  7,   0,   0, ..., 666,  18,   5],\n",
       "       [  7,   0,   0, ..., 666,  18,   5],\n",
       "       [  7,   0,   0, ..., 666,  18,   5],\n",
       "       ...,\n",
       "       [  6,   0,   0, ..., 666,  22,   6],\n",
       "       [  5,   0,   0, ..., 666,  20,   5],\n",
       "       [  6,   0,   0, ..., 666,  22,   6]])"
      ]
     },
     "execution_count": 95,
     "metadata": {},
     "output_type": "execute_result"
    }
   ],
   "source": [
    "wines"
   ]
  },
  {
   "cell_type": "code",
   "execution_count": 96,
   "id": "26dd272a",
   "metadata": {},
   "outputs": [
    {
     "data": {
      "text/plain": [
       "array([11988, 11988, 11988, ..., 14652, 13320, 14652])"
      ]
     },
     "execution_count": 96,
     "metadata": {},
     "output_type": "execute_result"
    }
   ],
   "source": [
    "#17.\tMultiply alcohol by quality.\n",
    "wines[:,9]*wines[:,10]"
   ]
  },
  {
   "cell_type": "code",
   "execution_count": 97,
   "id": "1c9e6ab8",
   "metadata": {},
   "outputs": [
    {
     "data": {
      "text/plain": [
       "array([18, 18, 18, ..., 22, 20, 22])"
      ]
     },
     "execution_count": 97,
     "metadata": {},
     "output_type": "execute_result"
    }
   ],
   "source": [
    "#18.\tDisplay which wines have a quality rating higher than 5.\n",
    "wines[wines[:,10]>5,10]"
   ]
  },
  {
   "cell_type": "code",
   "execution_count": 98,
   "id": "a174309e",
   "metadata": {},
   "outputs": [
    {
     "data": {
      "text/plain": [
       "array([], dtype=int32)"
      ]
     },
     "execution_count": 98,
     "metadata": {},
     "output_type": "execute_result"
    }
   ],
   "source": [
    "#19.\tCheck if any wines have a quality rating equal to 10.\n",
    "wines[wines[:,10]==10,10]"
   ]
  },
  {
   "cell_type": "code",
   "execution_count": 99,
   "id": "930c5473",
   "metadata": {},
   "outputs": [
    {
     "data": {
      "text/plain": [
       "array([[  7,   0,   0, ..., 666,  18,   5],\n",
       "       [  7,   0,   0, ..., 666,  18,   5],\n",
       "       [  7,   0,   0, ..., 666,  18,   5],\n",
       "       ...,\n",
       "       [  6,   0,   0, ..., 666,  22,   6],\n",
       "       [  5,   0,   0, ..., 666,  20,   5],\n",
       "       [  6,   0,   0, ..., 666,  22,   6]])"
      ]
     },
     "execution_count": 99,
     "metadata": {},
     "output_type": "execute_result"
    }
   ],
   "source": [
    "#20.\tSelect rows in wines where the quality is over 7\n",
    "wines[wines[:,10]>7]"
   ]
  },
  {
   "cell_type": "code",
   "execution_count": 100,
   "id": "e6f3da69",
   "metadata": {},
   "outputs": [
    {
     "data": {
      "text/plain": [
       "array([[666,  18],\n",
       "       [666,  18],\n",
       "       [666,  18],\n",
       "       ...,\n",
       "       [666,  22],\n",
       "       [666,  20],\n",
       "       [666,  22]])"
      ]
     },
     "execution_count": 100,
     "metadata": {},
     "output_type": "execute_result"
    }
   ],
   "source": [
    "#21.\tDisplay wines with alcohol greater than 10 and quality greater than 7.\n",
    "wines[(wines[:,9]>10) & (wines[:,10]>7),9:11]"
   ]
  },
  {
   "cell_type": "code",
   "execution_count": 105,
   "id": "7786398c",
   "metadata": {},
   "outputs": [],
   "source": [
    "#22.\tChange the shape of wines array.\n",
    "wines=wines.reshape(12,1599)"
   ]
  },
  {
   "cell_type": "code",
   "execution_count": 106,
   "id": "637a846b",
   "metadata": {},
   "outputs": [
    {
     "data": {
      "text/plain": [
       "(12, 1599)"
      ]
     },
     "execution_count": 106,
     "metadata": {},
     "output_type": "execute_result"
    }
   ],
   "source": [
    "wines.shape"
   ]
  },
  {
   "cell_type": "code",
   "execution_count": null,
   "id": "4c343f61",
   "metadata": {},
   "outputs": [],
   "source": []
  }
 ],
 "metadata": {
  "kernelspec": {
   "display_name": "Python 3 (ipykernel)",
   "language": "python",
   "name": "python3"
  },
  "language_info": {
   "codemirror_mode": {
    "name": "ipython",
    "version": 3
   },
   "file_extension": ".py",
   "mimetype": "text/x-python",
   "name": "python",
   "nbconvert_exporter": "python",
   "pygments_lexer": "ipython3",
   "version": "3.9.7"
  }
 },
 "nbformat": 4,
 "nbformat_minor": 5
}
