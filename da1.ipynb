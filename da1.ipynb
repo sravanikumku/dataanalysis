{
 "cells": [
  {
   "cell_type": "code",
   "execution_count": 1,
   "id": "f4e83d65",
   "metadata": {},
   "outputs": [
    {
     "data": {
      "text/plain": [
       "'1.20.3'"
      ]
     },
     "execution_count": 1,
     "metadata": {},
     "output_type": "execute_result"
    }
   ],
   "source": [
    "import numpy as np\n",
    "np.__version__"
   ]
  },
  {
   "cell_type": "code",
   "execution_count": 2,
   "id": "acb16da1",
   "metadata": {},
   "outputs": [],
   "source": [
    "import pandas as pd"
   ]
  },
  {
   "cell_type": "code",
   "execution_count": 5,
   "id": "8050adfb",
   "metadata": {},
   "outputs": [
    {
     "name": "stdout",
     "output_type": "stream",
     "text": [
      "  name marks\n",
      "0   ss    90\n",
      "1   bi    78\n",
      "2   98    jo\n"
     ]
    }
   ],
   "source": [
    "#using lists\n",
    "l=[1,2,3,4]\n",
    "df=pd.DataFrame(l)\n",
    "m=[['abc',30],['xyz',90],['pqs',93]]\n",
    "p=[['ss',90],['bi',78],[98,'jo']]\n",
    "df=pd.DataFrame(p,columns=['name','marks'])\n",
    "#df=pd.DataFrame(m,columns=['name','marks'])\n",
    "df=pd.DataFrame(p)\n",
    "print(df)"
   ]
  },
  {
   "cell_type": "code",
   "execution_count": 16,
   "id": "d8425b27",
   "metadata": {},
   "outputs": [
    {
     "name": "stdout",
     "output_type": "stream",
     "text": [
      "      name  marks\n",
      "0  sravani     23\n",
      "1   akhila     56\n",
      "2   nlkhjl     78\n"
     ]
    }
   ],
   "source": [
    "#using dictionaries\n",
    "d={'name':['sravani','akhila','nlkhjl'],'marks':[23,56,78]}\n",
    "d=pd.DataFrame(d)\n",
    "print(pd.DataFrame(d))"
   ]
  },
  {
   "cell_type": "code",
   "execution_count": null,
   "id": "e2c35346",
   "metadata": {},
   "outputs": [],
   "source": [
    "#using list of dictionaries"
   ]
  },
  {
   "cell_type": "code",
   "execution_count": 18,
   "id": "c221b0b9",
   "metadata": {},
   "outputs": [
    {
     "name": "stdout",
     "output_type": "stream",
     "text": [
      "              a             b             c             f             k  \\\n",
      "0  [1, 2, 3, 4]  [7, 8, 9, 1]  [2, 3, 4, 5]           NaN           NaN   \n",
      "1           NaN           NaN           NaN  [6, 7, 8, 9]  [2, 3, 4, 6]   \n",
      "\n",
      "              m  \n",
      "0           NaN  \n",
      "1  [4, 5, 6, 7]  \n"
     ]
    }
   ],
   "source": [
    "a=[{'a':[1,2,3,4],'b':[7,8,9,1],'c':[2,3,4,5]},{'f':[6,7,8,9],'k':[2,3,4,6],'m':[4,5,6,7]}]\n",
    "print(pd.DataFrame(a))\n"
   ]
  },
  {
   "cell_type": "code",
   "execution_count": 19,
   "id": "4f53e03f",
   "metadata": {},
   "outputs": [
    {
     "data": {
      "text/plain": [
       "0    sravani\n",
       "1     akhila\n",
       "2     nlkhjl\n",
       "Name: name, dtype: object"
      ]
     },
     "execution_count": 19,
     "metadata": {},
     "output_type": "execute_result"
    }
   ],
   "source": [
    "#deleting a column\n",
    "d.pop('name')"
   ]
  },
  {
   "cell_type": "code",
   "execution_count": 20,
   "id": "c22b76d9",
   "metadata": {},
   "outputs": [
    {
     "name": "stdout",
     "output_type": "stream",
     "text": [
      "   marks\n",
      "0     23\n",
      "1     56\n",
      "2     78\n"
     ]
    }
   ],
   "source": [
    "print(d)"
   ]
  },
  {
   "cell_type": "code",
   "execution_count": 29,
   "id": "468bfc45",
   "metadata": {},
   "outputs": [
    {
     "data": {
      "text/html": [
       "<div>\n",
       "<style scoped>\n",
       "    .dataframe tbody tr th:only-of-type {\n",
       "        vertical-align: middle;\n",
       "    }\n",
       "\n",
       "    .dataframe tbody tr th {\n",
       "        vertical-align: top;\n",
       "    }\n",
       "\n",
       "    .dataframe thead th {\n",
       "        text-align: right;\n",
       "    }\n",
       "</style>\n",
       "<table border=\"1\" class=\"dataframe\">\n",
       "  <thead>\n",
       "    <tr style=\"text-align: right;\">\n",
       "      <th></th>\n",
       "      <th>name</th>\n",
       "      <th>marks</th>\n",
       "    </tr>\n",
       "  </thead>\n",
       "  <tbody>\n",
       "    <tr>\n",
       "      <th>0</th>\n",
       "      <td>ss</td>\n",
       "      <td>90</td>\n",
       "    </tr>\n",
       "    <tr>\n",
       "      <th>1</th>\n",
       "      <td>bi</td>\n",
       "      <td>78</td>\n",
       "    </tr>\n",
       "  </tbody>\n",
       "</table>\n",
       "</div>"
      ],
      "text/plain": [
       "  name marks\n",
       "0   ss    90\n",
       "1   bi    78"
      ]
     },
     "execution_count": 29,
     "metadata": {},
     "output_type": "execute_result"
    }
   ],
   "source": [
    "# loc and iloc\n",
    "df.loc[[0,1]]\n"
   ]
  },
  {
   "cell_type": "code",
   "execution_count": 24,
   "id": "16a53bd6",
   "metadata": {},
   "outputs": [
    {
     "data": {
      "text/html": [
       "<div>\n",
       "<style scoped>\n",
       "    .dataframe tbody tr th:only-of-type {\n",
       "        vertical-align: middle;\n",
       "    }\n",
       "\n",
       "    .dataframe tbody tr th {\n",
       "        vertical-align: top;\n",
       "    }\n",
       "\n",
       "    .dataframe thead th {\n",
       "        text-align: right;\n",
       "    }\n",
       "</style>\n",
       "<table border=\"1\" class=\"dataframe\">\n",
       "  <thead>\n",
       "    <tr style=\"text-align: right;\">\n",
       "      <th></th>\n",
       "      <th>name</th>\n",
       "      <th>marks</th>\n",
       "    </tr>\n",
       "  </thead>\n",
       "  <tbody>\n",
       "    <tr>\n",
       "      <th>0</th>\n",
       "      <td>ss</td>\n",
       "      <td>90</td>\n",
       "    </tr>\n",
       "    <tr>\n",
       "      <th>1</th>\n",
       "      <td>bi</td>\n",
       "      <td>78</td>\n",
       "    </tr>\n",
       "    <tr>\n",
       "      <th>2</th>\n",
       "      <td>98</td>\n",
       "      <td>jo</td>\n",
       "    </tr>\n",
       "  </tbody>\n",
       "</table>\n",
       "</div>"
      ],
      "text/plain": [
       "  name marks\n",
       "0   ss    90\n",
       "1   bi    78\n",
       "2   98    jo"
      ]
     },
     "execution_count": 24,
     "metadata": {},
     "output_type": "execute_result"
    }
   ],
   "source": [
    "df"
   ]
  },
  {
   "cell_type": "code",
   "execution_count": 27,
   "id": "af58b7c8",
   "metadata": {},
   "outputs": [
    {
     "data": {
      "text/html": [
       "<div>\n",
       "<style scoped>\n",
       "    .dataframe tbody tr th:only-of-type {\n",
       "        vertical-align: middle;\n",
       "    }\n",
       "\n",
       "    .dataframe tbody tr th {\n",
       "        vertical-align: top;\n",
       "    }\n",
       "\n",
       "    .dataframe thead th {\n",
       "        text-align: right;\n",
       "    }\n",
       "</style>\n",
       "<table border=\"1\" class=\"dataframe\">\n",
       "  <thead>\n",
       "    <tr style=\"text-align: right;\">\n",
       "      <th></th>\n",
       "      <th>name</th>\n",
       "      <th>marks</th>\n",
       "    </tr>\n",
       "  </thead>\n",
       "  <tbody>\n",
       "    <tr>\n",
       "      <th>0</th>\n",
       "      <td>ss</td>\n",
       "      <td>90</td>\n",
       "    </tr>\n",
       "    <tr>\n",
       "      <th>1</th>\n",
       "      <td>bi</td>\n",
       "      <td>78</td>\n",
       "    </tr>\n",
       "    <tr>\n",
       "      <th>2</th>\n",
       "      <td>98</td>\n",
       "      <td>jo</td>\n",
       "    </tr>\n",
       "  </tbody>\n",
       "</table>\n",
       "</div>"
      ],
      "text/plain": [
       "  name marks\n",
       "0   ss    90\n",
       "1   bi    78\n",
       "2   98    jo"
      ]
     },
     "execution_count": 27,
     "metadata": {},
     "output_type": "execute_result"
    }
   ],
   "source": [
    "df[0:9]"
   ]
  },
  {
   "cell_type": "code",
   "execution_count": 28,
   "id": "72439df5",
   "metadata": {},
   "outputs": [
    {
     "data": {
      "text/html": [
       "<div>\n",
       "<style scoped>\n",
       "    .dataframe tbody tr th:only-of-type {\n",
       "        vertical-align: middle;\n",
       "    }\n",
       "\n",
       "    .dataframe tbody tr th {\n",
       "        vertical-align: top;\n",
       "    }\n",
       "\n",
       "    .dataframe thead th {\n",
       "        text-align: right;\n",
       "    }\n",
       "</style>\n",
       "<table border=\"1\" class=\"dataframe\">\n",
       "  <thead>\n",
       "    <tr style=\"text-align: right;\">\n",
       "      <th></th>\n",
       "      <th>name</th>\n",
       "      <th>marks</th>\n",
       "    </tr>\n",
       "  </thead>\n",
       "  <tbody>\n",
       "    <tr>\n",
       "      <th>0</th>\n",
       "      <td>ss</td>\n",
       "      <td>90</td>\n",
       "    </tr>\n",
       "    <tr>\n",
       "      <th>2</th>\n",
       "      <td>98</td>\n",
       "      <td>jo</td>\n",
       "    </tr>\n",
       "  </tbody>\n",
       "</table>\n",
       "</div>"
      ],
      "text/plain": [
       "  name marks\n",
       "0   ss    90\n",
       "2   98    jo"
      ]
     },
     "execution_count": 28,
     "metadata": {},
     "output_type": "execute_result"
    }
   ],
   "source": [
    "#drop rows\n",
    "df.drop(1)"
   ]
  },
  {
   "cell_type": "code",
   "execution_count": 30,
   "id": "fc46a501",
   "metadata": {},
   "outputs": [
    {
     "data": {
      "text/plain": [
       "52.333333333333336"
      ]
     },
     "execution_count": 30,
     "metadata": {},
     "output_type": "execute_result"
    }
   ],
   "source": [
    "d['marks'].mean()"
   ]
  },
  {
   "cell_type": "code",
   "execution_count": 33,
   "id": "b7c192b6",
   "metadata": {},
   "outputs": [
    {
     "data": {
      "text/plain": [
       "23"
      ]
     },
     "execution_count": 33,
     "metadata": {},
     "output_type": "execute_result"
    }
   ],
   "source": [
    "d['marks'].mode()[0]"
   ]
  },
  {
   "cell_type": "code",
   "execution_count": 40,
   "id": "d2ac5080",
   "metadata": {},
   "outputs": [
    {
     "name": "stdout",
     "output_type": "stream",
     "text": [
      "0    False\n",
      "1    False\n",
      "2    False\n",
      "3    False\n",
      "4     True\n",
      "dtype: bool\n",
      "   self  other\n",
      "0   2.0    1.0\n",
      "1   4.0    3.0\n",
      "2   6.0    5.0\n",
      "3   8.0    7.0\n"
     ]
    }
   ],
   "source": [
    "a=pd.Series([2,4,6,8,10])\n",
    "b=pd.Series([1,3,5,7,10])\n",
    "print(a==b)\n",
    "print(a.compare(b))"
   ]
  },
  {
   "cell_type": "code",
   "execution_count": 39,
   "id": "06a06935",
   "metadata": {},
   "outputs": [
    {
     "name": "stdout",
     "output_type": "stream",
     "text": [
      "[5, 6, 7, 8, 9, 3]\n",
      "<class 'list'>\n"
     ]
    }
   ],
   "source": [
    "a=pd.Series([5,6,7,8,9,3])\n",
    "a=list(a)\n",
    "print(a)\n",
    "print(type(a))"
   ]
  },
  {
   "cell_type": "code",
   "execution_count": 64,
   "id": "6af417a6",
   "metadata": {},
   "outputs": [
    {
     "name": "stdout",
     "output_type": "stream",
     "text": [
      "<class 'pandas.core.series.Series'>\n",
      "<class 'numpy.ndarray'>\n",
      "[100 200 'python' 300.12 400]\n",
      "<class 'int'>\n"
     ]
    }
   ],
   "source": [
    "a=pd.Series([100,200,'python',300.12,400])\n",
    "print(type(a))\n",
    "b=np.asarray(a)\n",
    "print(type(b))\n",
    "print(b)\n",
    "print(type(b[0]))"
   ]
  },
  {
   "cell_type": "code",
   "execution_count": 69,
   "id": "39c52d84",
   "metadata": {},
   "outputs": [
    {
     "name": "stdout",
     "output_type": "stream",
     "text": [
      "<class 'numpy.ndarray'>\n",
      "[100 200 'python' 300.12 400]\n"
     ]
    }
   ],
   "source": [
    "b=np.array(pd.Series([100,200,'python',300.12,400]))\n",
    "print(type(b))\n",
    "print(b)"
   ]
  },
  {
   "cell_type": "code",
   "execution_count": 74,
   "id": "55e31cff",
   "metadata": {},
   "outputs": [
    {
     "name": "stdout",
     "output_type": "stream",
     "text": [
      "0    [1, 2, 4, 5]\n",
      "1    [4, 5, 6, 7]\n",
      "dtype: object\n",
      "<class 'pandas.core.series.Series'>\n",
      "0    1\n",
      "1    2\n",
      "2    3\n",
      "3    5\n",
      "dtype: int32 <class 'pandas.core.series.Series'>\n",
      "a    [1, 2, 3, 4]\n",
      "v    [1, 2, 5, 7]\n",
      "dtype: object\n"
     ]
    }
   ],
   "source": [
    "#list\n",
    "k=pd.Series([[1,2,4,5],[4,5,6,7]])\n",
    "print(k)\n",
    "print(type(k))\n",
    "#numpy\n",
    "f=pd.Series(np.array([1,2,3,5]))\n",
    "print(f,type(f))\n",
    "#dict\n",
    "d={'a':[1,2,3,4],'v':[1,2,5,7]}\n",
    "b=pd.Series(d)\n",
    "print(b)"
   ]
  },
  {
   "cell_type": "code",
   "execution_count": 78,
   "id": "3cbe3874",
   "metadata": {},
   "outputs": [
    {
     "name": "stdout",
     "output_type": "stream",
     "text": [
      "   a  b  c\n",
      "0  1  6  3\n",
      "1  2  7  5\n",
      "2  3  8  6\n",
      "3  4  9  7\n"
     ]
    }
   ],
   "source": [
    "c1=pd.Series([1,2,3,4])\n",
    "c2=pd.Series([6,7,8,9])\n",
    "c3=pd.Series([3,5,6,7])\n",
    "df=pd.DataFrame({'a':c1,'b':c2,'c':c3})\n",
    "print(df)"
   ]
  },
  {
   "cell_type": "code",
   "execution_count": 88,
   "id": "043792be",
   "metadata": {},
   "outputs": [
    {
     "name": "stdout",
     "output_type": "stream",
     "text": [
      "3    4\n",
      "1    2\n",
      "2    1\n",
      "7    1\n",
      "4    1\n",
      "dtype: int64\n"
     ]
    }
   ],
   "source": [
    "#frequency_counts\n",
    "g=pd.Series([1,1,2,7,3,3,3,3,4])\n",
    "c=0\n",
    "print(g.value_counts())"
   ]
  },
  {
   "cell_type": "code",
   "execution_count": 90,
   "id": "4bdeee57",
   "metadata": {},
   "outputs": [
    {
     "name": "stdout",
     "output_type": "stream",
     "text": [
      "   0  1\n",
      "0  1  3\n",
      "1  4  6\n"
     ]
    }
   ],
   "source": [
    "a=np.array([1,3,4,6,7,8])\n",
    "a.resize(2,2)\n",
    "a=pd.DataFrame(a)\n",
    "print(a)"
   ]
  },
  {
   "cell_type": "code",
   "execution_count": 95,
   "id": "f86029c1",
   "metadata": {},
   "outputs": [
    {
     "name": "stdout",
     "output_type": "stream",
     "text": [
      "   b   c\n",
      "0  5  56\n",
      "1  6   5\n",
      "2  6   4\n",
      "3  7   4\n",
      "4  7   4\n"
     ]
    }
   ],
   "source": [
    "df=pd.read_csv(\"C:/Users/exam2/Documents/Book1.csv\",usecols=['b','c'])\n",
    "print(df)"
   ]
  },
  {
   "cell_type": "code",
   "execution_count": 107,
   "id": "c8f65886",
   "metadata": {},
   "outputs": [
    {
     "name": "stdout",
     "output_type": "stream",
     "text": [
      "    c  b\n",
      "0  56  5\n",
      "1   5  6\n",
      "2   4  6\n",
      "3   4  7\n",
      "4   4  7\n"
     ]
    }
   ],
   "source": [
    "df=df.reindex(columns=['c','b'])\n",
    "print(df)"
   ]
  },
  {
   "cell_type": "code",
   "execution_count": 108,
   "id": "bfb6cebe",
   "metadata": {},
   "outputs": [
    {
     "name": "stdout",
     "output_type": "stream",
     "text": [
      "    c  b\n",
      "4   4  7\n",
      "3   4  7\n",
      "2   4  6\n",
      "1   5  6\n",
      "0  56  5\n"
     ]
    }
   ],
   "source": [
    "print(df.loc[::-1])"
   ]
  },
  {
   "cell_type": "code",
   "execution_count": null,
   "id": "ea9cffbf",
   "metadata": {},
   "outputs": [],
   "source": []
  }
 ],
 "metadata": {
  "kernelspec": {
   "display_name": "Python 3 (ipykernel)",
   "language": "python",
   "name": "python3"
  },
  "language_info": {
   "codemirror_mode": {
    "name": "ipython",
    "version": 3
   },
   "file_extension": ".py",
   "mimetype": "text/x-python",
   "name": "python",
   "nbconvert_exporter": "python",
   "pygments_lexer": "ipython3",
   "version": "3.9.7"
  }
 },
 "nbformat": 4,
 "nbformat_minor": 5
}
