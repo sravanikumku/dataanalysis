{
 "cells": [
  {
   "cell_type": "code",
   "execution_count": 6,
   "id": "625ce0f9",
   "metadata": {},
   "outputs": [],
   "source": [
    "import pandas as pd\n",
    "import numpy as np"
   ]
  },
  {
   "cell_type": "code",
   "execution_count": 3,
   "id": "59ee736e",
   "metadata": {},
   "outputs": [
    {
     "name": "stdout",
     "output_type": "stream",
     "text": [
      "0    1\n",
      "1    2\n",
      "2    3\n",
      "3    4\n",
      "4    5\n",
      "5    6\n",
      "6    6\n",
      "7    7\n",
      "dtype: int64\n"
     ]
    }
   ],
   "source": [
    "#1.\tWrite a Pandas program to create and display a one-dimensional array-like object containing an array of data using Pandas module.\n",
    "a=pd.Series([1,2,3,4,5,6,6,7])\n",
    "print(a)"
   ]
  },
  {
   "cell_type": "code",
   "execution_count": 4,
   "id": "63b0ef98",
   "metadata": {},
   "outputs": [
    {
     "name": "stdout",
     "output_type": "stream",
     "text": [
      "[1, 2, 3, 4, 5, 6, 6, 7]\n"
     ]
    }
   ],
   "source": [
    "#2.\tWrite a pandas program to convert a pandas module series to python list.\n",
    "print(a.tolist())"
   ]
  },
  {
   "cell_type": "code",
   "execution_count": 8,
   "id": "4239ce2f",
   "metadata": {},
   "outputs": [
    {
     "name": "stdout",
     "output_type": "stream",
     "text": [
      "add 0    11.0\n",
      "1    13.0\n",
      "2    15.0\n",
      "3    17.0\n",
      "4    19.0\n",
      "5    21.0\n",
      "6    23.0\n",
      "7    25.0\n",
      "8    27.0\n",
      "9     NaN\n",
      "dtype: float64\n",
      "sub 0   -9.0\n",
      "1   -9.0\n",
      "2   -9.0\n",
      "3   -9.0\n",
      "4   -9.0\n",
      "5   -9.0\n",
      "6   -9.0\n",
      "7   -9.0\n",
      "8   -9.0\n",
      "9    NaN\n",
      "dtype: float64\n",
      "mul 0     10.0\n",
      "1     22.0\n",
      "2     36.0\n",
      "3     52.0\n",
      "4     70.0\n",
      "5     90.0\n",
      "6    112.0\n",
      "7    136.0\n",
      "8    162.0\n",
      "9      NaN\n",
      "dtype: float64\n",
      "div 0    0.100000\n",
      "1    0.181818\n",
      "2    0.250000\n",
      "3    0.307692\n",
      "4    0.357143\n",
      "5    0.400000\n",
      "6    0.437500\n",
      "7    0.470588\n",
      "8    0.500000\n",
      "9         NaN\n",
      "dtype: float64\n",
      "moddiv 0    1.0\n",
      "1    2.0\n",
      "2    3.0\n",
      "3    4.0\n",
      "4    5.0\n",
      "5    6.0\n",
      "6    7.0\n",
      "7    8.0\n",
      "8    9.0\n",
      "9    NaN\n",
      "dtype: float64\n"
     ]
    }
   ],
   "source": [
    "#3.\tWrite a pandas program to add, subtract, multiple and divide two pandas series\n",
    "a=pd.Series(np.arange(1,10))\n",
    "b=pd.Series(np.arange(10,20))\n",
    "print(\"add\",a+b)\n",
    "print(\"sub\",a-b)\n",
    "print(\"mul\",a*b)\n",
    "print(\"div\",a/b)\n",
    "print(\"moddiv\",a%b)"
   ]
  },
  {
   "cell_type": "code",
   "execution_count": 15,
   "id": "16fbc970",
   "metadata": {},
   "outputs": [
    {
     "name": "stdout",
     "output_type": "stream",
     "text": [
      "upper\n",
      "0            A\n",
      "1      SRAVANI\n",
      "2       AKHILA\n",
      "3    MAHESWARI\n",
      "4     BHARGAVI\n",
      "dtype: object\n",
      "lower\n",
      "0            a\n",
      "1      sravani\n",
      "2       akhila\n",
      "3    maheswari\n",
      "4     bhargavi\n",
      "dtype: object\n",
      "length of string 0    1\n",
      "1    7\n",
      "2    6\n",
      "3    9\n",
      "4    8\n",
      "dtype: int64\n"
     ]
    }
   ],
   "source": [
    "#4.\tWrite a Pandas program to convert all the string values to upper, lower cases in a given pandas series. Also find the length of the string values.\n",
    "a=pd.Series(['A','sRavani','akhila','MaheswaRI','bhargavi'])\n",
    "\n",
    "print(\"upper\",a.str.upper(),sep=\"\\n\")\n",
    "print(\"lower\",a.str.lower(),sep=\"\\n\")\n",
    "print(\"length of string\",a.str.len())\n"
   ]
  },
  {
   "cell_type": "code",
   "execution_count": 20,
   "id": "0cd08dff",
   "metadata": {},
   "outputs": [
    {
     "name": "stdout",
     "output_type": "stream",
     "text": [
      "original:\n",
      " 0           A\n",
      "1         BC \n",
      "2        BHM \n",
      "3     JIOYHOL\n",
      "4        dcdc\n",
      "dtype: object\n",
      "after removing\n",
      " 0          A\n",
      "1         BC\n",
      "2        BHM\n",
      "3    JIOYHOL\n",
      "4       dcdc\n",
      "dtype: object\n"
     ]
    }
   ],
   "source": [
    "#5.\tWrite a Pandas program to remove whitespaces, left sided whitespaces and right sided whitespaces of the string values of a given pandas series\n",
    "a=pd.Series(['A',' BC ','BHM ',' JIOYHOL','dcdc'])\n",
    "print(\"original:\\n\",a)\n",
    "a=a.str.strip()\n",
    "print(\"after removing\\n\",a)\n"
   ]
  },
  {
   "cell_type": "code",
   "execution_count": 28,
   "id": "52077d0f",
   "metadata": {},
   "outputs": [
    {
     "data": {
      "text/html": [
       "<div>\n",
       "<style scoped>\n",
       "    .dataframe tbody tr th:only-of-type {\n",
       "        vertical-align: middle;\n",
       "    }\n",
       "\n",
       "    .dataframe tbody tr th {\n",
       "        vertical-align: top;\n",
       "    }\n",
       "\n",
       "    .dataframe thead th {\n",
       "        text-align: right;\n",
       "    }\n",
       "</style>\n",
       "<table border=\"1\" class=\"dataframe\">\n",
       "  <thead>\n",
       "    <tr style=\"text-align: right;\">\n",
       "      <th></th>\n",
       "      <th>regtno</th>\n",
       "      <th>std_name</th>\n",
       "      <th>fathername</th>\n",
       "      <th>mobilenumber</th>\n",
       "    </tr>\n",
       "  </thead>\n",
       "  <tbody>\n",
       "    <tr>\n",
       "      <th>0</th>\n",
       "      <td>y20cs099</td>\n",
       "      <td>sravani</td>\n",
       "      <td>abc</td>\n",
       "      <td>123456</td>\n",
       "    </tr>\n",
       "    <tr>\n",
       "      <th>1</th>\n",
       "      <td>y20cs100</td>\n",
       "      <td>akhila</td>\n",
       "      <td>xyz</td>\n",
       "      <td>498765</td>\n",
       "    </tr>\n",
       "    <tr>\n",
       "      <th>2</th>\n",
       "      <td>y20cs101</td>\n",
       "      <td>maheswari</td>\n",
       "      <td>poi</td>\n",
       "      <td>637389</td>\n",
       "    </tr>\n",
       "    <tr>\n",
       "      <th>3</th>\n",
       "      <td>y20cs102</td>\n",
       "      <td>bhargavi</td>\n",
       "      <td>hdbk</td>\n",
       "      <td>84840</td>\n",
       "    </tr>\n",
       "  </tbody>\n",
       "</table>\n",
       "</div>"
      ],
      "text/plain": [
       "     regtno   std_name fathername  mobilenumber\n",
       "0  y20cs099    sravani        abc        123456\n",
       "1  y20cs100     akhila        xyz        498765\n",
       "2  y20cs101  maheswari        poi        637389\n",
       "3  y20cs102   bhargavi       hdbk         84840"
      ]
     },
     "execution_count": 28,
     "metadata": {},
     "output_type": "execute_result"
    }
   ],
   "source": [
    "#6.\tWrite a Pandas program to create and display a DataFrame consist of student name, father name , mobile number as columns and register number as index.\n",
    "data={\"regtno\":['y20cs099','y20cs100','y20cs101','y20cs102'],\"std_name\":['sravani','akhila','maheswari','bhargavi'],\"fathername\":['abc','xyz','poi','hdbk']\n",
    "     ,\"mobilenumber\":[123456,498765,637389,84840]}\n",
    "df=pd.DataFrame(data)\n",
    "df.reindex(df[\"regtno\"])\n",
    "df"
   ]
  },
  {
   "cell_type": "code",
   "execution_count": 29,
   "id": "0c4f56ab",
   "metadata": {},
   "outputs": [
    {
     "name": "stdout",
     "output_type": "stream",
     "text": [
      "Index(['regtno', 'std_name', 'fathername', 'mobilenumber'], dtype='object')\n"
     ]
    }
   ],
   "source": [
    "#7.\tWrite a Pandas program to get list from DataFrame column headers.\n",
    "print(df.columns)"
   ]
  },
  {
   "cell_type": "code",
   "execution_count": 35,
   "id": "b51b5dd1",
   "metadata": {},
   "outputs": [
    {
     "name": "stderr",
     "output_type": "stream",
     "text": [
      "C:\\Users\\y20cs99\\AppData\\Local\\Temp/ipykernel_14316/3224969576.py:1: SettingWithCopyWarning: \n",
      "A value is trying to be set on a copy of a slice from a DataFrame\n",
      "\n",
      "See the caveats in the documentation: https://pandas.pydata.org/pandas-docs/stable/user_guide/indexing.html#returning-a-view-versus-a-copy\n",
      "  df['std_name'][0]='inavars'\n"
     ]
    },
    {
     "data": {
      "text/html": [
       "<div>\n",
       "<style scoped>\n",
       "    .dataframe tbody tr th:only-of-type {\n",
       "        vertical-align: middle;\n",
       "    }\n",
       "\n",
       "    .dataframe tbody tr th {\n",
       "        vertical-align: top;\n",
       "    }\n",
       "\n",
       "    .dataframe thead th {\n",
       "        text-align: right;\n",
       "    }\n",
       "</style>\n",
       "<table border=\"1\" class=\"dataframe\">\n",
       "  <thead>\n",
       "    <tr style=\"text-align: right;\">\n",
       "      <th></th>\n",
       "      <th>regtno</th>\n",
       "      <th>std_name</th>\n",
       "      <th>fathername</th>\n",
       "      <th>mobilenumber</th>\n",
       "    </tr>\n",
       "  </thead>\n",
       "  <tbody>\n",
       "    <tr>\n",
       "      <th>0</th>\n",
       "      <td>y20cs099</td>\n",
       "      <td>inavars</td>\n",
       "      <td>abc</td>\n",
       "      <td>123456</td>\n",
       "    </tr>\n",
       "    <tr>\n",
       "      <th>1</th>\n",
       "      <td>y20cs100</td>\n",
       "      <td>akhila</td>\n",
       "      <td>xyz</td>\n",
       "      <td>498765</td>\n",
       "    </tr>\n",
       "    <tr>\n",
       "      <th>2</th>\n",
       "      <td>y20cs101</td>\n",
       "      <td>maheswari</td>\n",
       "      <td>poi</td>\n",
       "      <td>637389</td>\n",
       "    </tr>\n",
       "    <tr>\n",
       "      <th>3</th>\n",
       "      <td>y20cs102</td>\n",
       "      <td>bhargavi</td>\n",
       "      <td>hdbk</td>\n",
       "      <td>84840</td>\n",
       "    </tr>\n",
       "  </tbody>\n",
       "</table>\n",
       "</div>"
      ],
      "text/plain": [
       "     regtno   std_name fathername  mobilenumber\n",
       "0  y20cs099    inavars        abc        123456\n",
       "1  y20cs100     akhila        xyz        498765\n",
       "2  y20cs101  maheswari        poi        637389\n",
       "3  y20cs102   bhargavi       hdbk         84840"
      ]
     },
     "execution_count": 35,
     "metadata": {},
     "output_type": "execute_result"
    }
   ],
   "source": [
    "#8.\tWrite a Pandas program to change the name of the student\n",
    "df['std_name'][0]='inavars'\n",
    "df['std_name'].replace('sravani','inavars')\n",
    "df"
   ]
  },
  {
   "cell_type": "code",
   "execution_count": 36,
   "id": "623c4539",
   "metadata": {},
   "outputs": [],
   "source": [
    "#9.\tWrite a Pandas program to insert a new column “grade” in existing DataFrame.\n",
    "df['grade']=['A+','A+','A+','A+']"
   ]
  },
  {
   "cell_type": "code",
   "execution_count": 38,
   "id": "5d35d27e",
   "metadata": {},
   "outputs": [
    {
     "data": {
      "text/html": [
       "<div>\n",
       "<style scoped>\n",
       "    .dataframe tbody tr th:only-of-type {\n",
       "        vertical-align: middle;\n",
       "    }\n",
       "\n",
       "    .dataframe tbody tr th {\n",
       "        vertical-align: top;\n",
       "    }\n",
       "\n",
       "    .dataframe thead th {\n",
       "        text-align: right;\n",
       "    }\n",
       "</style>\n",
       "<table border=\"1\" class=\"dataframe\">\n",
       "  <thead>\n",
       "    <tr style=\"text-align: right;\">\n",
       "      <th></th>\n",
       "      <th>regtno</th>\n",
       "      <th>std_name</th>\n",
       "      <th>fathername</th>\n",
       "      <th>mobilenumber</th>\n",
       "      <th>grade</th>\n",
       "    </tr>\n",
       "  </thead>\n",
       "  <tbody>\n",
       "    <tr>\n",
       "      <th>0</th>\n",
       "      <td>y20cs099</td>\n",
       "      <td>inavars</td>\n",
       "      <td>abc</td>\n",
       "      <td>123456</td>\n",
       "      <td>A+</td>\n",
       "    </tr>\n",
       "    <tr>\n",
       "      <th>1</th>\n",
       "      <td>y20cs100</td>\n",
       "      <td>akhila</td>\n",
       "      <td>xyz</td>\n",
       "      <td>498765</td>\n",
       "      <td>A+</td>\n",
       "    </tr>\n",
       "    <tr>\n",
       "      <th>2</th>\n",
       "      <td>y20cs101</td>\n",
       "      <td>maheswari</td>\n",
       "      <td>poi</td>\n",
       "      <td>637389</td>\n",
       "      <td>A+</td>\n",
       "    </tr>\n",
       "    <tr>\n",
       "      <th>3</th>\n",
       "      <td>y20cs102</td>\n",
       "      <td>bhargavi</td>\n",
       "      <td>hdbk</td>\n",
       "      <td>84840</td>\n",
       "      <td>A+</td>\n",
       "    </tr>\n",
       "  </tbody>\n",
       "</table>\n",
       "</div>"
      ],
      "text/plain": [
       "     regtno   std_name fathername  mobilenumber grade\n",
       "0  y20cs099    inavars        abc        123456    A+\n",
       "1  y20cs100     akhila        xyz        498765    A+\n",
       "2  y20cs101  maheswari        poi        637389    A+\n",
       "3  y20cs102   bhargavi       hdbk         84840    A+"
      ]
     },
     "execution_count": 38,
     "metadata": {},
     "output_type": "execute_result"
    }
   ],
   "source": [
    "df"
   ]
  },
  {
   "cell_type": "code",
   "execution_count": 39,
   "id": "009b294e",
   "metadata": {},
   "outputs": [
    {
     "name": "stdout",
     "output_type": "stream",
     "text": [
      "        name  score  attempts qualify\n",
      "a  Anastasia   12.5         1     yes\n",
      "b       Dima    9.0         3      no\n",
      "c  Katherine   16.5         2     yes\n",
      "d      James    NaN         3      no\n",
      "e      Emily    9.0         2      no\n",
      "f    Michael   20.0         3     yes\n",
      "g    Matthew   14.5         1     yes\n",
      "h      Laura    NaN         1      no\n",
      "i      Kevin    8.0         2      no\n",
      "j      Jonas   19.0         1     yes\n"
     ]
    }
   ],
   "source": [
    "exam_data  = {'name': ['Anastasia', 'Dima', 'Katherine', 'James', 'Emily', 'Michael', 'Matthew', 'Laura', 'Kevin', 'Jonas'],\n",
    "        'score': [12.5, 9, 16.5, np.nan, 9, 20, 14.5, np.nan, 8, 19],\n",
    "        'attempts': [1, 3, 2, 3, 2, 3, 1, 1, 2, 1],\n",
    "        'qualify': ['yes', 'no', 'yes', 'no', 'no', 'yes', 'yes', 'no', 'no', 'yes']}\n",
    "labels = ['a', 'b', 'c', 'd', 'e', 'f', 'g', 'h', 'i', 'j']\n",
    "\n",
    "df = pd.DataFrame(exam_data , index=labels)\n",
    "print(df)"
   ]
  },
  {
   "cell_type": "code",
   "execution_count": null,
   "id": "56a33579",
   "metadata": {},
   "outputs": [],
   "source": []
  }
 ],
 "metadata": {
  "kernelspec": {
   "display_name": "Python 3 (ipykernel)",
   "language": "python",
   "name": "python3"
  },
  "language_info": {
   "codemirror_mode": {
    "name": "ipython",
    "version": 3
   },
   "file_extension": ".py",
   "mimetype": "text/x-python",
   "name": "python",
   "nbconvert_exporter": "python",
   "pygments_lexer": "ipython3",
   "version": "3.9.7"
  }
 },
 "nbformat": 4,
 "nbformat_minor": 5
}
