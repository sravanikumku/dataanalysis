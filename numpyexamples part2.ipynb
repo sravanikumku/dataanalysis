{
 "cells": [
  {
   "cell_type": "code",
   "execution_count": 6,
   "id": "03c40b04",
   "metadata": {},
   "outputs": [],
   "source": [
    "import numpy as np\n",
    "import math"
   ]
  },
  {
   "cell_type": "code",
   "execution_count": 23,
   "id": "4aab93bb",
   "metadata": {},
   "outputs": [
    {
     "name": "stdout",
     "output_type": "stream",
     "text": [
      "cos 0.5000000000000001\n",
      "sin 0.8660254037844386\n",
      "tan 0.9999999999999999\n",
      "arccos 1.5707963267948966\n",
      "arcsin 0.0\n",
      "arctan 0.7853981633974483\n",
      "cosh 11.591953275521519\n",
      "sinh 11.548739357257746\n",
      "tanh 0.99627207622075\n",
      "arccosh 1.8115262724608532\n",
      "arcsinh 1.8622957433108482\n",
      "sqrt 3.0\n",
      "exp [ 20.08553692  54.59815003 148.4131591 ]\n",
      "log [1.09861229 1.38629436 1.60943791]\n",
      "log2 [1.5849625  2.         2.32192809]\n",
      "log10 [0.47712125 0.60205999 0.69897   ]\n"
     ]
    }
   ],
   "source": [
    "#16.\tNumPy Elementary Mathematical Functions\n",
    "print(\"cos\",np.cos(math.pi/3))\n",
    "print(\"sin\",np.sin(math.pi/3))\n",
    "print(\"tan\",np.tan(math.pi/4))\n",
    "print(\"arccos\",np.arccos(0))\n",
    "print(\"arcsin\",np.arcsin(0))\n",
    "print(\"arctan\",np.arctan(1))\n",
    "print(\"cosh\",np.cosh(math.pi))\n",
    "print(\"sinh\",np.sinh(math.pi))\n",
    "print(\"tanh\",np.tanh(math.pi))\n",
    "print(\"arccosh\",np.arccosh(math.pi))\n",
    "print(\"arcsinh\",np.arcsinh(math.pi))\n",
    "print(\"sqrt\",np.sqrt(9))\n",
    "l=np.array([3,4,5])\n",
    "print(\"exp\",np.exp(l))\n",
    "print(\"log\",np.log(l))\n",
    "print(\"log2\",np.log2(l))\n",
    "print(\"log10\",np.log10(l))"
   ]
  },
  {
   "cell_type": "code",
   "execution_count": 25,
   "id": "74a7c771",
   "metadata": {},
   "outputs": [
    {
     "name": "stdout",
     "output_type": "stream",
     "text": [
      "ADD [11  7  7  7]\n",
      "SUB [-7 -1  1  3]\n",
      "MUL [18 12 12 10]\n",
      "DIV [0.22222222 0.75       1.33333333 2.5       ]\n",
      "power [512  81  64  25]\n",
      "np.remainder [2 3 1 1]\n",
      "reciprocal [0.45454545 0.33333333 0.25       0.2       ]\n",
      "np.sign(),  [1. 1. 1. 1.]\n",
      "np.abs [2 3 4 5]\n",
      "np.floor [2. 3. 4. 5.]\n",
      "np.ceil [3. 3. 4. 5.]\n",
      "np.round [2. 3. 4. 5.]\n"
     ]
    }
   ],
   "source": [
    "#17.\tNumPy Element Wise Mathematical Operations\n",
    "a=np.array([2,3,4,5])\n",
    "a1=np.array([2.2,3.,4.,5.])\n",
    "b=np.array([9,4,3,2])\n",
    "print(\"ADD\",np.add(a,b))\n",
    "print(\"SUB\",np.subtract(a,b))\n",
    "print(\"MUL\",np.multiply(a,b))\n",
    "print(\"DIV\",np.divide(a,b))\n",
    "print(\"power\",np.power(a,b))\n",
    "print(\"np.remainder\",np.remainder(a,b))\n",
    "print(\"reciprocal\",np.reciprocal(a1))\n",
    "print(\"np.sign(), \",np.sign(a1))\n",
    "print(\"np.abs\",np.abs(a))\n",
    "print(\"np.floor\",np.floor(a1))\n",
    "print(\"np.ceil\",np.ceil(a1))\n",
    "print(\"np.round\",np.round(a1))"
   ]
  },
  {
   "cell_type": "code",
   "execution_count": 60,
   "id": "6fd85971",
   "metadata": {},
   "outputs": [
    {
     "name": "stdout",
     "output_type": "stream",
     "text": [
      "[1 2 3 4 5 6 7 8 9]\n",
      "np.mean() 5.0\n",
      "np.std() 2.581988897471611\n",
      "np.var() 6.666666666666667\n",
      "np.sum() 45\n",
      "np.prod() 362880\n",
      "np.cumsum() [ 1  3  6 10 15 21 28 36 45]\n",
      "np.cumprod [     1      2      6     24    120    720   5040  40320 362880]\n",
      "[[1 2 3]\n",
      " [4 5 6]\n",
      " [7 8 9]]\n",
      "max 9\n",
      "min 1\n",
      "argmax 8\n",
      "argmin 0\n",
      "[[10  9]\n",
      " [ 8  7]\n",
      " [ 6  5]\n",
      " [ 4  3]\n",
      " [ 2  1]\n",
      " [ 0 -1]\n",
      " [-2 -3]]\n",
      "[ True  True  True  True  True False  True]\n",
      "[ True  True]\n"
     ]
    }
   ],
   "source": [
    "#18.\tNumPy Aggregate and Statistical Functions\n",
    "l=np.arange(1,10)\n",
    "print(l)\n",
    "print(\"np.mean()\",np.mean(l))\n",
    "print(\"np.std()\",np.std(l))\n",
    "print(\"np.var()\",np.var(l))\n",
    "print(\"np.sum()\",np.sum(l))\n",
    "print(\"np.prod()\",np.prod(l))\n",
    "print(\"np.cumsum()\",np.cumsum(l))\n",
    "print(\"np.cumprod\",np.cumprod(l))\n",
    "l1=l.reshape((3,3))\n",
    "print(l1)\n",
    "print(\"max\",np.max(l1))\n",
    "print(\"min\",np.min(l1))\n",
    "print(\"argmax\",np.argmax(l1))\n",
    "print(\"argmin\",np.argmin(l1))\n",
    "a=np.arange(10,-4,-1)\n",
    "a.resize((7,2))\n",
    "print(a)\n",
    "print(np.all(a,axis=1))\n",
    "print(np.any(a,axis=0))\n"
   ]
  },
  {
   "cell_type": "code",
   "execution_count": 66,
   "id": "3e507591",
   "metadata": {},
   "outputs": [
    {
     "name": "stdout",
     "output_type": "stream",
     "text": [
      "[ 4  5  6  7  8  9 10]\n"
     ]
    }
   ],
   "source": [
    "#19.\tNumPy Example of Where function\n",
    "a=np.array([4,5,6,7,8,9,10,23,43])\n",
    "ind=np.where(a<np.mean(a))\n",
    "print(a[ind])"
   ]
  },
  {
   "cell_type": "code",
   "execution_count": 69,
   "id": "c2c16647",
   "metadata": {},
   "outputs": [
    {
     "data": {
      "text/plain": [
       "array([  0,   1,   2,   3,   4,  25,  36,  49,  64,  81, 100, 121])"
      ]
     },
     "execution_count": 69,
     "metadata": {},
     "output_type": "execute_result"
    }
   ],
   "source": [
    "#20.\tNumPy Example of Select function\n",
    "a=np.arange(12)\n",
    "condlist=[a<=4,a>4]\n",
    "clist=[a,a**2]\n",
    "np.select(condlist,clist)\n"
   ]
  },
  {
   "cell_type": "code",
   "execution_count": 70,
   "id": "4ec3ca5f",
   "metadata": {},
   "outputs": [
    {
     "name": "stdout",
     "output_type": "stream",
     "text": [
      "logical_or [ True  True  True  True  True  True]\n",
      "logical_and [ True False  True  True False False]\n"
     ]
    }
   ],
   "source": [
    "#21.\tNumPy Logical operations for selectively picking values from an array depending on a given condition\n",
    "l=np.array([4,5,6,7,0,6])\n",
    "l1=np.array([4,0,7,4,2,0])\n",
    "print(\"logical_or\",np.logical_or(l,l1))\n",
    "print(\"logical_and\",np.logical_and(l,l1))\n"
   ]
  },
  {
   "cell_type": "code",
   "execution_count": 72,
   "id": "026d2697",
   "metadata": {},
   "outputs": [
    {
     "name": "stdout",
     "output_type": "stream",
     "text": [
      "union [0 2 4 5 6 7]\n",
      "intersection [0 4 7]\n",
      "set diff [5 6]\n"
     ]
    }
   ],
   "source": [
    "#22.\tNumPy example of Standard Set Operations\n",
    "l=np.array([4,5,6,7,0,6])\n",
    "l1=np.array([4,0,7,4,2,0])\n",
    "print(\"union\",np.union1d(l,l1))\n",
    "print(\"intersection\",np.intersect1d(l,l1))\n",
    "print(\"set diff\",np.setdiff1d(l,l1))\n"
   ]
  },
  {
   "cell_type": "code",
   "execution_count": null,
   "id": "47030892",
   "metadata": {},
   "outputs": [],
   "source": []
  }
 ],
 "metadata": {
  "kernelspec": {
   "display_name": "Python 3 (ipykernel)",
   "language": "python",
   "name": "python3"
  },
  "language_info": {
   "codemirror_mode": {
    "name": "ipython",
    "version": 3
   },
   "file_extension": ".py",
   "mimetype": "text/x-python",
   "name": "python",
   "nbconvert_exporter": "python",
   "pygments_lexer": "ipython3",
   "version": "3.9.7"
  }
 },
 "nbformat": 4,
 "nbformat_minor": 5
}
